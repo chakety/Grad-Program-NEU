{
 "cells": [
  {
   "cell_type": "markdown",
   "id": "2d204000",
   "metadata": {},
   "source": [
    "## Teamwork Homework #1\n",
    "\n",
    "Please write below an **iterative**, **recursive**, and **generator** implementation of Fibonacci numbers. Those are the series where the next element is the sum of the previous two. Also, give me the first 100 Fibonacci numbers.\n",
    "\n",
    "Now :-) Here's a hint:"
   ]
  },
  {
   "cell_type": "code",
   "execution_count": 1,
   "id": "93c2e7b6",
   "metadata": {},
   "outputs": [
    {
     "name": "stdout",
     "output_type": "stream",
     "text": [
      "a = 2\n",
      "b = 1\n"
     ]
    }
   ],
   "source": [
    "a = 1\n",
    "b = 2\n",
    "a, b = b, a\n",
    "print('a = ' + str(a))\n",
    "print('b = ' + str(b))"
   ]
  },
  {
   "cell_type": "markdown",
   "id": "6a844793",
   "metadata": {},
   "source": [
    "#### recursive for fabonacci"
   ]
  },
  {
   "cell_type": "code",
   "execution_count": 2,
   "id": "e24057dc",
   "metadata": {},
   "outputs": [
    {
     "name": "stdout",
     "output_type": "stream",
     "text": [
      "[0, 1, 1, 2, 3, 5, 8, 13, 21, 34, 55, 89, 144, 233, 377, 610, 987, 1597, 2584, 4181, 6765, 10946, 17711, 28657, 46368, 75025, 121393, 196418, 317811, 514229, 832040, 1346269, 2178309, 3524578, 5702887, 9227465, 14930352, 24157817, 39088169, 63245986, 102334155, 165580141, 267914296, 433494437, 701408733, 1134903170, 1836311903, 2971215073, 4807526976, 7778742049, 12586269025, 20365011074, 32951280099, 53316291173, 86267571272, 139583862445, 225851433717, 365435296162, 591286729879, 956722026041, 1548008755920, 2504730781961, 4052739537881, 6557470319842, 10610209857723, 17167680177565, 27777890035288, 44945570212853, 72723460248141, 117669030460994, 190392490709135, 308061521170129, 498454011879264, 806515533049393, 1304969544928657, 2111485077978050, 3416454622906707, 5527939700884757, 8944394323791464, 14472334024676221, 23416728348467685, 37889062373143906, 61305790721611591, 99194853094755497, 160500643816367088, 259695496911122585, 420196140727489673, 679891637638612258, 1100087778366101931, 1779979416004714189, 2880067194370816120, 4660046610375530309, 7540113804746346429, 12200160415121876738, 19740274219868223167, 31940434634990099905, 51680708854858323072, 83621143489848422977, 135301852344706746049, 218922995834555169026]\n"
     ]
    }
   ],
   "source": [
    "memo = dict()\n",
    "def rec_fibo(num):\n",
    "    if num in memo:\n",
    "        return memo[num]\n",
    "    if num <= 1:\n",
    "        memo[num] = num\n",
    "        return num;\n",
    "    memo[num] = rec_fibo(num-1) + rec_fibo(num-2)\n",
    "    return memo[num]\n",
    "\n",
    "result = list()\n",
    "for i in range(0,100):\n",
    "    result.append(rec_fibo(i))\n",
    "\n",
    "print(result)"
   ]
  },
  {
   "cell_type": "markdown",
   "id": "31d60d20",
   "metadata": {},
   "source": [
    "#### Iterative for fabonacci"
   ]
  },
  {
   "cell_type": "code",
   "execution_count": 3,
   "id": "c3f6f2c3",
   "metadata": {},
   "outputs": [
    {
     "name": "stdout",
     "output_type": "stream",
     "text": [
      "[0, 1, 1, 2, 3, 5, 8, 13, 21, 34, 55, 89, 144, 233, 377, 610, 987, 1597, 2584, 4181, 6765, 10946, 17711, 28657, 46368, 75025, 121393, 196418, 317811, 514229, 832040, 1346269, 2178309, 3524578, 5702887, 9227465, 14930352, 24157817, 39088169, 63245986, 102334155, 165580141, 267914296, 433494437, 701408733, 1134903170, 1836311903, 2971215073, 4807526976, 7778742049, 12586269025, 20365011074, 32951280099, 53316291173, 86267571272, 139583862445, 225851433717, 365435296162, 591286729879, 956722026041, 1548008755920, 2504730781961, 4052739537881, 6557470319842, 10610209857723, 17167680177565, 27777890035288, 44945570212853, 72723460248141, 117669030460994, 190392490709135, 308061521170129, 498454011879264, 806515533049393, 1304969544928657, 2111485077978050, 3416454622906707, 5527939700884757, 8944394323791464, 14472334024676221, 23416728348467685, 37889062373143906, 61305790721611591, 99194853094755497, 160500643816367088, 259695496911122585, 420196140727489673, 679891637638612258, 1100087778366101931, 1779979416004714189, 2880067194370816120, 4660046610375530309, 7540113804746346429, 12200160415121876738, 19740274219868223167, 31940434634990099905, 51680708854858323072, 83621143489848422977, 135301852344706746049, 218922995834555169026]\n"
     ]
    }
   ],
   "source": [
    "def iter_fib(num):\n",
    "    a = 0\n",
    "    b = 1\n",
    "    for i in range(0,num):\n",
    "        a,b = b, a+b\n",
    "    return a\n",
    "\n",
    "result = list()\n",
    "for i in range(0,100):\n",
    "    result.append(iter_fib(i))\n",
    "\n",
    "print(result)"
   ]
  },
  {
   "cell_type": "markdown",
   "id": "054c111b",
   "metadata": {},
   "source": [
    "#### Generator of Fabonacci"
   ]
  },
  {
   "cell_type": "code",
   "execution_count": 4,
   "id": "7bd20fb7",
   "metadata": {},
   "outputs": [
    {
     "name": "stdout",
     "output_type": "stream",
     "text": [
      "[0, 1, 1, 2, 3, 5, 8, 13, 21, 34, 55, 89, 144, 233, 377, 610, 987, 1597, 2584, 4181, 6765, 10946, 17711, 28657, 46368, 75025, 121393, 196418, 317811, 514229, 832040, 1346269, 2178309, 3524578, 5702887, 9227465, 14930352, 24157817, 39088169, 63245986, 102334155, 165580141, 267914296, 433494437, 701408733, 1134903170, 1836311903, 2971215073, 4807526976, 7778742049, 12586269025, 20365011074, 32951280099, 53316291173, 86267571272, 139583862445, 225851433717, 365435296162, 591286729879, 956722026041, 1548008755920, 2504730781961, 4052739537881, 6557470319842, 10610209857723, 17167680177565, 27777890035288, 44945570212853, 72723460248141, 117669030460994, 190392490709135, 308061521170129, 498454011879264, 806515533049393, 1304969544928657, 2111485077978050, 3416454622906707, 5527939700884757, 8944394323791464, 14472334024676221, 23416728348467685, 37889062373143906, 61305790721611591, 99194853094755497, 160500643816367088, 259695496911122585, 420196140727489673, 679891637638612258, 1100087778366101931, 1779979416004714189, 2880067194370816120, 4660046610375530309, 7540113804746346429, 12200160415121876738, 19740274219868223167, 31940434634990099905, 51680708854858323072, 83621143489848422977, 135301852344706746049, 218922995834555169026]\n"
     ]
    }
   ],
   "source": [
    "def gen_fibo(n):\n",
    "    v1,v2 =0, 1\n",
    "    for i in range(n):\n",
    "        yield v1\n",
    "        v1,v2 = v2, v1+v2        \n",
    "        \n",
    "print(list(gen_fibo(100)))"
   ]
  },
  {
   "cell_type": "markdown",
   "id": "ec3ba01b",
   "metadata": {},
   "source": [
    "## Teamwork Homework #2\n",
    "\n",
    "Part 1: Google for some code to determine if a number is a prime number (or write the code yourselves!).\n",
    "\n",
    "Part 2: Rewrite your code Dua-Lipa style: In *one line of code*!"
   ]
  },
  {
   "cell_type": "markdown",
   "id": "d8521eb2",
   "metadata": {},
   "source": [
    "#### Part1:"
   ]
  },
  {
   "cell_type": "code",
   "execution_count": 5,
   "id": "5356dd80",
   "metadata": {},
   "outputs": [
    {
     "name": "stdout",
     "output_type": "stream",
     "text": [
      "False\n"
     ]
    }
   ],
   "source": [
    "def is_prime(n):\n",
    "    if n <=1:\n",
    "        return False\n",
    "    if n == 2:\n",
    "        return True\n",
    "    for i in range(2,n):\n",
    "        if(n % i  == 0):\n",
    "            return False\n",
    "    return True\n",
    "\n",
    "print(is_prime(6))"
   ]
  },
  {
   "cell_type": "markdown",
   "id": "79712f96",
   "metadata": {},
   "source": [
    "#### Part II:"
   ]
  },
  {
   "cell_type": "code",
   "execution_count": 9,
   "id": "490dc56a",
   "metadata": {},
   "outputs": [
    {
     "data": {
      "text/plain": [
       "False"
      ]
     },
     "execution_count": 9,
     "metadata": {},
     "output_type": "execute_result"
    }
   ],
   "source": [
    "(lambda n: False not in (n > 1 and n % i == 0 for i in range(2,n)))(33) #cannot identify 1 with unsure reason"
   ]
  },
  {
   "cell_type": "markdown",
   "id": "d47a1f8a",
   "metadata": {},
   "source": [
    "##### Prime Answers:"
   ]
  },
  {
   "cell_type": "code",
   "execution_count": 7,
   "id": "c38d63a0",
   "metadata": {},
   "outputs": [
    {
     "name": "stdout",
     "output_type": "stream",
     "text": [
      "False\n",
      "True\n",
      "True\n",
      "False\n",
      "True\n"
     ]
    }
   ],
   "source": [
    "def is_prime(n): return n > 1 and not any(n % i == 0 for i in range(2,n))\n",
    "print(is_prime(1))\n",
    "print(is_prime(2))\n",
    "print(is_prime(3))\n",
    "print(is_prime(4))\n",
    "print(is_prime(97))"
   ]
  }
 ],
 "metadata": {
  "kernelspec": {
   "display_name": "Python 3 (ipykernel)",
   "language": "python",
   "name": "python3"
  },
  "language_info": {
   "codemirror_mode": {
    "name": "ipython",
    "version": 3
   },
   "file_extension": ".py",
   "mimetype": "text/x-python",
   "name": "python",
   "nbconvert_exporter": "python",
   "pygments_lexer": "ipython3",
   "version": "3.9.13"
  }
 },
 "nbformat": 4,
 "nbformat_minor": 5
}
